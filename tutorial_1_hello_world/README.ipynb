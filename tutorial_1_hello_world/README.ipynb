{
 "cells": [
  {
   "cell_type": "markdown",
   "metadata": {},
   "source": [
    "# Hello World And Basic Functions\n",
    "\n",
    "## Creating a New Project\n",
    "\n",
    "To create a new project, first enter the Pkg REPL using `]`.\n",
    "\n",
    "Next, create a new Progect with the `generate` command"
   ]
  },
  {
   "cell_type": "code",
   "execution_count": 15,
   "metadata": {},
   "outputs": [
    {
     "name": "stdout",
     "output_type": "stream",
     "text": [
      "\u001b[36m  generate pkgname\u001b[39m\n",
      "\n",
      "  Create a project called \u001b[36mpkgname\u001b[39m in the current folder."
     ]
    }
   ],
   "source": [
    "]?generate"
   ]
  },
  {
   "cell_type": "code",
   "execution_count": 1,
   "metadata": {},
   "outputs": [
    {
     "name": "stderr",
     "output_type": "stream",
     "text": [
      "\u001b[32m\u001b[1m Generating\u001b[22m\u001b[39m  project HelloWorld:\n",
      "    HelloWorld/Project.toml\n",
      "    HelloWorld/src/HelloWorld.jl\n"
     ]
    }
   ],
   "source": [
    "]generate HelloWorld"
   ]
  },
  {
   "cell_type": "markdown",
   "metadata": {},
   "source": [
    "This will create the project directory, and adtional files.\n",
    "\n",
    "Next exit the Pkg REPL (Backspace or Ctrl+c), then move into the project directory with the `cd` function"
   ]
  },
  {
   "cell_type": "code",
   "execution_count": 16,
   "metadata": {},
   "outputs": [
    {
     "name": "stdout",
     "output_type": "stream",
     "text": [
      "search: \u001b[0m\u001b[1mc\u001b[22m\u001b[0m\u001b[1md\u001b[22m \u001b[0m\u001b[1mC\u001b[22m\u001b[0m\u001b[1md\u001b[22mouble g\u001b[0m\u001b[1mc\u001b[22m\u001b[0m\u001b[1md\u001b[22m g\u001b[0m\u001b[1mc\u001b[22m\u001b[0m\u001b[1md\u001b[22mx se\u001b[0m\u001b[1mc\u001b[22m\u001b[0m\u001b[1md\u001b[22m ase\u001b[0m\u001b[1mc\u001b[22m\u001b[0m\u001b[1md\u001b[22m \u001b[0m\u001b[1mc\u001b[22ml\u001b[0m\u001b[1md\u001b[22m \u001b[0m\u001b[1mC\u001b[22mm\u001b[0m\u001b[1md\u001b[22m \u001b[0m\u001b[1mc\u001b[22mo\u001b[0m\u001b[1md\u001b[22meunit \u001b[0m\u001b[1mc\u001b[22mo\u001b[0m\u001b[1md\u001b[22meunits \u001b[0m\u001b[1mc\u001b[22mo\u001b[0m\u001b[1md\u001b[22mepoint\n",
      "\n"
     ]
    },
    {
     "data": {
      "text/latex": [
       "\\begin{verbatim}\n",
       "cd(dir::AbstractString=homedir())\n",
       "\\end{verbatim}\n",
       "Set the current working directory.\n",
       "\n",
       "\\section{Examples}\n",
       "\\begin{verbatim}\n",
       "julia> cd(\"/home/JuliaUser/Projects/julia\")\n",
       "\n",
       "julia> pwd()\n",
       "\"/home/JuliaUser/Projects/julia\"\n",
       "\n",
       "julia> cd()\n",
       "\n",
       "julia> pwd()\n",
       "\"/home/JuliaUser\"\n",
       "\\end{verbatim}\n",
       "\\rule{\\textwidth}{1pt}\n",
       "\\begin{verbatim}\n",
       "cd(f::Function, dir::AbstractString=homedir())\n",
       "\\end{verbatim}\n",
       "Temporarily change the current working directory to \\texttt{dir}, apply function \\texttt{f} and finally return to the original directory.\n",
       "\n",
       "\\section{Examples}\n",
       "\\begin{verbatim}\n",
       "julia> pwd()\n",
       "\"/home/JuliaUser\"\n",
       "\n",
       "julia> cd(readdir, \"/home/JuliaUser/Projects/julia\")\n",
       "34-element Array{String,1}:\n",
       " \".circleci\"\n",
       " \".freebsdci.sh\"\n",
       " \".git\"\n",
       " \".gitattributes\"\n",
       " \".github\"\n",
       " ⋮\n",
       " \"test\"\n",
       " \"ui\"\n",
       " \"usr\"\n",
       " \"usr-staging\"\n",
       "\n",
       "julia> pwd()\n",
       "\"/home/JuliaUser\"\n",
       "\\end{verbatim}\n"
      ],
      "text/markdown": [
       "```\n",
       "cd(dir::AbstractString=homedir())\n",
       "```\n",
       "\n",
       "Set the current working directory.\n",
       "\n",
       "# Examples\n",
       "\n",
       "```julia-repl\n",
       "julia> cd(\"/home/JuliaUser/Projects/julia\")\n",
       "\n",
       "julia> pwd()\n",
       "\"/home/JuliaUser/Projects/julia\"\n",
       "\n",
       "julia> cd()\n",
       "\n",
       "julia> pwd()\n",
       "\"/home/JuliaUser\"\n",
       "```\n",
       "\n",
       "---\n",
       "\n",
       "```\n",
       "cd(f::Function, dir::AbstractString=homedir())\n",
       "```\n",
       "\n",
       "Temporarily change the current working directory to `dir`, apply function `f` and finally return to the original directory.\n",
       "\n",
       "# Examples\n",
       "\n",
       "```julia-repl\n",
       "julia> pwd()\n",
       "\"/home/JuliaUser\"\n",
       "\n",
       "julia> cd(readdir, \"/home/JuliaUser/Projects/julia\")\n",
       "34-element Array{String,1}:\n",
       " \".circleci\"\n",
       " \".freebsdci.sh\"\n",
       " \".git\"\n",
       " \".gitattributes\"\n",
       " \".github\"\n",
       " ⋮\n",
       " \"test\"\n",
       " \"ui\"\n",
       " \"usr\"\n",
       " \"usr-staging\"\n",
       "\n",
       "julia> pwd()\n",
       "\"/home/JuliaUser\"\n",
       "```\n"
      ],
      "text/plain": [
       "\u001b[36m  cd(dir::AbstractString=homedir())\u001b[39m\n",
       "\n",
       "  Set the current working directory.\n",
       "\n",
       "\u001b[1m  Examples\u001b[22m\n",
       "\u001b[1m  ≡≡≡≡≡≡≡≡≡≡\u001b[22m\n",
       "\n",
       "\u001b[36m  julia> cd(\"/home/JuliaUser/Projects/julia\")\u001b[39m\n",
       "\u001b[36m  \u001b[39m\n",
       "\u001b[36m  julia> pwd()\u001b[39m\n",
       "\u001b[36m  \"/home/JuliaUser/Projects/julia\"\u001b[39m\n",
       "\u001b[36m  \u001b[39m\n",
       "\u001b[36m  julia> cd()\u001b[39m\n",
       "\u001b[36m  \u001b[39m\n",
       "\u001b[36m  julia> pwd()\u001b[39m\n",
       "\u001b[36m  \"/home/JuliaUser\"\u001b[39m\n",
       "\n",
       "  ────────────────────────────────────────────────────────────────────────────\n",
       "\n",
       "\u001b[36m  cd(f::Function, dir::AbstractString=homedir())\u001b[39m\n",
       "\n",
       "  Temporarily change the current working directory to \u001b[36mdir\u001b[39m, apply function \u001b[36mf\u001b[39m\n",
       "  and finally return to the original directory.\n",
       "\n",
       "\u001b[1m  Examples\u001b[22m\n",
       "\u001b[1m  ≡≡≡≡≡≡≡≡≡≡\u001b[22m\n",
       "\n",
       "\u001b[36m  julia> pwd()\u001b[39m\n",
       "\u001b[36m  \"/home/JuliaUser\"\u001b[39m\n",
       "\u001b[36m  \u001b[39m\n",
       "\u001b[36m  julia> cd(readdir, \"/home/JuliaUser/Projects/julia\")\u001b[39m\n",
       "\u001b[36m  34-element Array{String,1}:\u001b[39m\n",
       "\u001b[36m   \".circleci\"\u001b[39m\n",
       "\u001b[36m   \".freebsdci.sh\"\u001b[39m\n",
       "\u001b[36m   \".git\"\u001b[39m\n",
       "\u001b[36m   \".gitattributes\"\u001b[39m\n",
       "\u001b[36m   \".github\"\u001b[39m\n",
       "\u001b[36m   ⋮\u001b[39m\n",
       "\u001b[36m   \"test\"\u001b[39m\n",
       "\u001b[36m   \"ui\"\u001b[39m\n",
       "\u001b[36m   \"usr\"\u001b[39m\n",
       "\u001b[36m   \"usr-staging\"\u001b[39m\n",
       "\u001b[36m  \u001b[39m\n",
       "\u001b[36m  julia> pwd()\u001b[39m\n",
       "\u001b[36m  \"/home/JuliaUser\"\u001b[39m"
      ]
     },
     "execution_count": 16,
     "metadata": {},
     "output_type": "execute_result"
    }
   ],
   "source": [
    "?cd"
   ]
  },
  {
   "cell_type": "code",
   "execution_count": 1,
   "metadata": {},
   "outputs": [],
   "source": [
    "cd(\"HelloWorld\")"
   ]
  },
  {
   "cell_type": "markdown",
   "metadata": {},
   "source": [
    "To activate the project's environment use the `activate` command in the Pkg REPL.\n",
    "\n",
    "This is important for keep dependencies organized for your project."
   ]
  },
  {
   "cell_type": "code",
   "execution_count": 17,
   "metadata": {},
   "outputs": [
    {
     "name": "stdout",
     "output_type": "stream",
     "text": [
      "\u001b[36m  activate\u001b[39m\n",
      "\u001b[36m  activate [--shared] path\u001b[39m\n",
      "\n",
      "  Activate the environment at the given \u001b[36mpath\u001b[39m, or the home project environment\n",
      "  if no \u001b[36mpath\u001b[39m is specified. The active environment is the environment that is\n",
      "  modified by executing package commands. When the option \u001b[36m--shared\u001b[39m is given,\n",
      "  \u001b[36mpath\u001b[39m will be assumed to be a directory name and searched for in the\n",
      "  \u001b[36menvironments\u001b[39m folders of the depots in the depot stack. In case no such\n",
      "  environment exists in any of the depots, it will be placed in the first\n",
      "  depot of the stack."
     ]
    }
   ],
   "source": [
    "]?activate"
   ]
  },
  {
   "cell_type": "code",
   "execution_count": 2,
   "metadata": {},
   "outputs": [
    {
     "name": "stderr",
     "output_type": "stream",
     "text": [
      "\u001b[32m\u001b[1m Activating\u001b[22m\u001b[39m environment at `~/projects/julia_tutorials/tutorial_1_hello_world/HelloWorld/Project.toml`\n"
     ]
    }
   ],
   "source": [
    "]activate ."
   ]
  },
  {
   "cell_type": "markdown",
   "metadata": {},
   "source": [
    "## The Julia REPL\n",
    "\n",
    "Inside the Julia REPL it's easy to create variables and view their value\n",
    "\n",
    "At any time in the Julia REPL you can use the `?` in front of a keyword to learn more about it."
   ]
  },
  {
   "cell_type": "code",
   "execution_count": 7,
   "metadata": {},
   "outputs": [
    {
     "data": {
      "text/plain": [
       "\"Hello World\""
      ]
     },
     "execution_count": 7,
     "metadata": {},
     "output_type": "execute_result"
    }
   ],
   "source": [
    "hello = \"Hello World\""
   ]
  },
  {
   "cell_type": "code",
   "execution_count": 9,
   "metadata": {},
   "outputs": [
    {
     "data": {
      "text/plain": [
       "\"Hello World\""
      ]
     },
     "execution_count": 9,
     "metadata": {},
     "output_type": "execute_result"
    }
   ],
   "source": [
    "hello"
   ]
  },
  {
   "cell_type": "markdown",
   "metadata": {},
   "source": [
    "For creating functions use the `function` keyword. Make sure to use the `end` keyword to close the function and to make sure that both keywords have the same indentaion. Note that function docstrings go above the function."
   ]
  },
  {
   "cell_type": "code",
   "execution_count": 18,
   "metadata": {},
   "outputs": [
    {
     "name": "stdout",
     "output_type": "stream",
     "text": [
      "search: \u001b[0m\u001b[1mf\u001b[22m\u001b[0m\u001b[1mu\u001b[22m\u001b[0m\u001b[1mn\u001b[22m\u001b[0m\u001b[1mc\u001b[22m\u001b[0m\u001b[1mt\u001b[22m\u001b[0m\u001b[1mi\u001b[22m\u001b[0m\u001b[1mo\u001b[22m\u001b[0m\u001b[1mn\u001b[22m \u001b[0m\u001b[1mF\u001b[22m\u001b[0m\u001b[1mu\u001b[22m\u001b[0m\u001b[1mn\u001b[22m\u001b[0m\u001b[1mc\u001b[22m\u001b[0m\u001b[1mt\u001b[22m\u001b[0m\u001b[1mi\u001b[22m\u001b[0m\u001b[1mo\u001b[22m\u001b[0m\u001b[1mn\u001b[22m \u001b[0m\u001b[1mf\u001b[22m\u001b[0m\u001b[1mu\u001b[22m\u001b[0m\u001b[1mn\u001b[22m\u001b[0m\u001b[1mc\u001b[22m\u001b[0m\u001b[1mt\u001b[22m\u001b[0m\u001b[1mi\u001b[22m\u001b[0m\u001b[1mo\u001b[22m\u001b[0m\u001b[1mn\u001b[22mloc @\u001b[0m\u001b[1mf\u001b[22m\u001b[0m\u001b[1mu\u001b[22m\u001b[0m\u001b[1mn\u001b[22m\u001b[0m\u001b[1mc\u001b[22m\u001b[0m\u001b[1mt\u001b[22m\u001b[0m\u001b[1mi\u001b[22m\u001b[0m\u001b[1mo\u001b[22m\u001b[0m\u001b[1mn\u001b[22mloc @c\u001b[0m\u001b[1mf\u001b[22m\u001b[0m\u001b[1mu\u001b[22m\u001b[0m\u001b[1mn\u001b[22m\u001b[0m\u001b[1mc\u001b[22m\u001b[0m\u001b[1mt\u001b[22m\u001b[0m\u001b[1mi\u001b[22m\u001b[0m\u001b[1mo\u001b[22m\u001b[0m\u001b[1mn\u001b[22m\n",
      "\n"
     ]
    },
    {
     "data": {
      "text/latex": [
       "\\begin{verbatim}\n",
       "function\n",
       "\\end{verbatim}\n",
       "Functions are defined with the \\texttt{function} keyword:\n",
       "\n",
       "\\begin{verbatim}\n",
       "function add(a, b)\n",
       "    return a + b\n",
       "end\n",
       "\\end{verbatim}\n",
       "Or the short form notation:\n",
       "\n",
       "\\begin{verbatim}\n",
       "add(a, b) = a + b\n",
       "\\end{verbatim}\n",
       "The use of the \\href{@ref}{\\texttt{return}} keyword is exactly the same as in other languages, but is often optional. A function without an explicit \\texttt{return} statement will return the last expression in the function body.\n",
       "\n"
      ],
      "text/markdown": [
       "```\n",
       "function\n",
       "```\n",
       "\n",
       "Functions are defined with the `function` keyword:\n",
       "\n",
       "```julia\n",
       "function add(a, b)\n",
       "    return a + b\n",
       "end\n",
       "```\n",
       "\n",
       "Or the short form notation:\n",
       "\n",
       "```julia\n",
       "add(a, b) = a + b\n",
       "```\n",
       "\n",
       "The use of the [`return`](@ref) keyword is exactly the same as in other languages, but is often optional. A function without an explicit `return` statement will return the last expression in the function body.\n"
      ],
      "text/plain": [
       "\u001b[36m  function\u001b[39m\n",
       "\n",
       "  Functions are defined with the \u001b[36mfunction\u001b[39m keyword:\n",
       "\n",
       "\u001b[36m  function add(a, b)\u001b[39m\n",
       "\u001b[36m      return a + b\u001b[39m\n",
       "\u001b[36m  end\u001b[39m\n",
       "\n",
       "  Or the short form notation:\n",
       "\n",
       "\u001b[36m  add(a, b) = a + b\u001b[39m\n",
       "\n",
       "  The use of the \u001b[36mreturn\u001b[39m keyword is exactly the same as in other languages, but\n",
       "  is often optional. A function without an explicit \u001b[36mreturn\u001b[39m statement will\n",
       "  return the last expression in the function body."
      ]
     },
     "execution_count": 18,
     "metadata": {},
     "output_type": "execute_result"
    }
   ],
   "source": [
    "?function"
   ]
  },
  {
   "cell_type": "code",
   "execution_count": 23,
   "metadata": {},
   "outputs": [
    {
     "data": {
      "text/plain": [
       "theworld"
      ]
     },
     "execution_count": 23,
     "metadata": {},
     "output_type": "execute_result"
    }
   ],
   "source": [
    "\"\"\"\n",
    "Example function\n",
    "\n",
    "Prints 'ZA WARUDO!'\n",
    "\"\"\"\n",
    "function theworld()\n",
    "    println(\"ZA WARUDO!\")\n",
    "end"
   ]
  },
  {
   "cell_type": "code",
   "execution_count": 14,
   "metadata": {},
   "outputs": [
    {
     "name": "stdout",
     "output_type": "stream",
     "text": [
      "ZA WARUDO!\n"
     ]
    }
   ],
   "source": [
    "theworld()"
   ]
  },
  {
   "cell_type": "code",
   "execution_count": 24,
   "metadata": {},
   "outputs": [
    {
     "data": {
      "text/latex": [
       "Example function\n",
       "\n",
       "Prints 'ZA WARUDO!'\n",
       "\n"
      ],
      "text/markdown": [
       "Example function\n",
       "\n",
       "Prints 'ZA WARUDO!'\n"
      ],
      "text/plain": [
       "  Example function\n",
       "\n",
       "  Prints 'ZA WARUDO!'"
      ]
     },
     "execution_count": 24,
     "metadata": {},
     "output_type": "execute_result"
    }
   ],
   "source": [
    "?theworld()"
   ]
  },
  {
   "cell_type": "code",
   "execution_count": 47,
   "metadata": {},
   "outputs": [
    {
     "data": {
      "text/plain": [
       "mudamuda"
      ]
     },
     "execution_count": 47,
     "metadata": {},
     "output_type": "execute_result"
    }
   ],
   "source": [
    "\"\"\"\n",
    "    mudamuda([count])\n",
    "\n",
    "Prints 'MUDA' the number of times specified. Default is 5 times.\n",
    "\n",
    "# Examples\n",
    "```julia-repl\n",
    "julia> mudamuda(2)\n",
    "MUDA\n",
    "MUDA\n",
    "```\n",
    "\"\"\"\n",
    "function mudamuda(count::Int = 5)\n",
    "    for i in range(1, stop=count)\n",
    "        println(\"MUDA\")\n",
    "    end\n",
    "end"
   ]
  },
  {
   "cell_type": "code",
   "execution_count": 48,
   "metadata": {},
   "outputs": [
    {
     "name": "stdout",
     "output_type": "stream",
     "text": [
      "MUDA\n",
      "MUDA\n",
      "MUDA\n",
      "MUDA\n",
      "MUDA\n",
      "MUDA\n",
      "MUDA\n",
      "MUDA\n",
      "MUDA\n",
      "MUDA\n"
     ]
    }
   ],
   "source": [
    "mudamuda(10)"
   ]
  },
  {
   "cell_type": "code",
   "execution_count": 49,
   "metadata": {},
   "outputs": [
    {
     "data": {
      "text/latex": [
       "\\begin{verbatim}\n",
       "mudamuda([count])\n",
       "\\end{verbatim}\n",
       "Prints 'MUDA' the number of times specified. Default is 5 times.\n",
       "\n",
       "\\section{Examples}\n",
       "\\begin{verbatim}\n",
       "julia> mudamuda(2)\n",
       "MUDA\n",
       "MUDA\n",
       "\\end{verbatim}\n",
       "\\rule{\\textwidth}{1pt}\n",
       "\\begin{verbatim}\n",
       "mudamuda([count])\n",
       "\\end{verbatim}\n",
       "Prints 'MUDA' the number of times specified. Default is 5 times.\n",
       "\n",
       "\\section{Examples}\n",
       "\\begin{verbatim}\n",
       "julia> mudamuda(2)\n",
       "MUDA\n",
       "MUDA\n",
       "\\end{verbatim}\n"
      ],
      "text/markdown": [
       "```\n",
       "mudamuda([count])\n",
       "```\n",
       "\n",
       "Prints 'MUDA' the number of times specified. Default is 5 times.\n",
       "\n",
       "# Examples\n",
       "\n",
       "```julia-repl\n",
       "julia> mudamuda(2)\n",
       "MUDA\n",
       "MUDA\n",
       "```\n",
       "\n",
       "---\n",
       "\n",
       "```\n",
       "mudamuda([count])\n",
       "```\n",
       "\n",
       "Prints 'MUDA' the number of times specified. Default is 5 times.\n",
       "\n",
       "# Examples\n",
       "\n",
       "```julia-repl\n",
       "julia> mudamuda(2)\n",
       "MUDA\n",
       "MUDA\n",
       "```\n"
      ],
      "text/plain": [
       "\u001b[36m  mudamuda([count])\u001b[39m\n",
       "\n",
       "  Prints 'MUDA' the number of times specified. Default is 5 times.\n",
       "\n",
       "\u001b[1m  Examples\u001b[22m\n",
       "\u001b[1m  ≡≡≡≡≡≡≡≡≡≡\u001b[22m\n",
       "\n",
       "\u001b[36m  julia> mudamuda(2)\u001b[39m\n",
       "\u001b[36m  MUDA\u001b[39m\n",
       "\u001b[36m  MUDA\u001b[39m\n",
       "\n",
       "  ────────────────────────────────────────────────────────────────────────────\n",
       "\n",
       "\u001b[36m  mudamuda([count])\u001b[39m\n",
       "\n",
       "  Prints 'MUDA' the number of times specified. Default is 5 times.\n",
       "\n",
       "\u001b[1m  Examples\u001b[22m\n",
       "\u001b[1m  ≡≡≡≡≡≡≡≡≡≡\u001b[22m\n",
       "\n",
       "\u001b[36m  julia> mudamuda(2)\u001b[39m\n",
       "\u001b[36m  MUDA\u001b[39m\n",
       "\u001b[36m  MUDA\u001b[39m"
      ]
     },
     "execution_count": 49,
     "metadata": {},
     "output_type": "execute_result"
    }
   ],
   "source": [
    "?mudamuda()"
   ]
  },
  {
   "cell_type": "markdown",
   "metadata": {},
   "source": [
    "## HelloWolrd.jl\n",
    "\n",
    "Let's switch gears and actually use the file `HelloWolrd/src/HelloWorld.jl`\n",
    "\n",
    "Add the following to the file:\n",
    "\n",
    "```julia\n",
    "module HelloWorld\n",
    "\n",
    "export oraora\n",
    "\n",
    "    \"\"\"\n",
    "        oraora([count])\n",
    "    Prints 'ORA' to the screen count number of times. count defaults to 5\n",
    "\n",
    "    # Examples\n",
    "\n",
    "    ```julia-repl\n",
    "    oraora(2)\n",
    "    ORA\n",
    "    ORA\n",
    "    ```\n",
    "    \"\"\"\n",
    "    function oraora(count::Int = 5)\n",
    "        for _ in range(1, stop=count)\n",
    "            println(\"ORA\")\n",
    "        end\n",
    "    end\n",
    "\n",
    "end # module\n",
    "\n",
    "```\n"
   ]
  },
  {
   "cell_type": "markdown",
   "metadata": {},
   "source": [
    "Next import the Hello wolrd module."
   ]
  },
  {
   "cell_type": "code",
   "execution_count": 3,
   "metadata": {},
   "outputs": [
    {
     "data": {
      "text/plain": [
       "\"/home/dillon/projects/julia_tutorials/tutorial_1_hello_world/HelloWorld\""
      ]
     },
     "execution_count": 3,
     "metadata": {},
     "output_type": "execute_result"
    }
   ],
   "source": [
    "pwd()"
   ]
  },
  {
   "cell_type": "code",
   "execution_count": 5,
   "metadata": {},
   "outputs": [
    {
     "name": "stdout",
     "output_type": "stream",
     "text": [
      "\u001b[36m\u001b[1mProject \u001b[22m\u001b[39mHelloWorld v0.1.0\n",
      "\u001b[32m\u001b[1mStatus\u001b[22m\u001b[39m `~/projects/julia_tutorials/tutorial_1_hello_world/HelloWorld/Project.toml`\n",
      "\u001b[90m  (empty environment)\u001b[39m\n"
     ]
    }
   ],
   "source": [
    "]status"
   ]
  },
  {
   "cell_type": "code",
   "execution_count": 54,
   "metadata": {},
   "outputs": [
    {
     "name": "stderr",
     "output_type": "stream",
     "text": [
      "WARNING: replacing module HelloWorld.\n",
      "WARNING: using HelloWorld.oraora in module Main conflicts with an existing identifier.\n"
     ]
    }
   ],
   "source": [
    "include(\"./src/HelloWorld.jl\")\n",
    "using .HelloWorld"
   ]
  },
  {
   "cell_type": "code",
   "execution_count": 15,
   "metadata": {},
   "outputs": [
    {
     "name": "stdout",
     "output_type": "stream",
     "text": [
      "ORA\n",
      "ORA\n",
      "ORA\n",
      "ORA\n",
      "ORA\n",
      "ORA\n",
      "ORA\n",
      "ORA\n",
      "ORA\n",
      "ORA\n"
     ]
    }
   ],
   "source": [
    "oraora(10)"
   ]
  },
  {
   "cell_type": "code",
   "execution_count": 19,
   "metadata": {},
   "outputs": [
    {
     "name": "stdout",
     "output_type": "stream",
     "text": [
      "search: \u001b[0m\u001b[1mo\u001b[22m\u001b[0m\u001b[1mr\u001b[22m\u001b[0m\u001b[1ma\u001b[22m\u001b[0m\u001b[1mo\u001b[22m\u001b[0m\u001b[1mr\u001b[22m\u001b[0m\u001b[1ma\u001b[22m\n",
      "\n"
     ]
    },
    {
     "data": {
      "text/latex": [
       "\\begin{verbatim}\n",
       "oraora([count])\n",
       "\\end{verbatim}\n",
       "Prints 'ORA' to the screen count number of times. count defaults to 5\n",
       "\n",
       "\\section{Examples}\n",
       "\\begin{verbatim}\n",
       "oraora(2)\n",
       "ORA\n",
       "ORA\n",
       "\\end{verbatim}\n"
      ],
      "text/markdown": [
       "```\n",
       "oraora([count])\n",
       "```\n",
       "\n",
       "Prints 'ORA' to the screen count number of times. count defaults to 5\n",
       "\n",
       "# Examples\n",
       "\n",
       "```julia-repl\n",
       "oraora(2)\n",
       "ORA\n",
       "ORA\n",
       "```\n"
      ],
      "text/plain": [
       "\u001b[36m  oraora([count])\u001b[39m\n",
       "\n",
       "  Prints 'ORA' to the screen count number of times. count defaults to 5\n",
       "\n",
       "\u001b[1m  Examples\u001b[22m\n",
       "\u001b[1m  ≡≡≡≡≡≡≡≡≡≡\u001b[22m\n",
       "\n",
       "\u001b[36m  oraora(2)\u001b[39m\n",
       "\u001b[36m  ORA\u001b[39m\n",
       "\u001b[36m  ORA\u001b[39m"
      ]
     },
     "execution_count": 19,
     "metadata": {},
     "output_type": "execute_result"
    }
   ],
   "source": [
    "?oraora"
   ]
  },
  {
   "cell_type": "markdown",
   "metadata": {},
   "source": [
    "alternatively from `using` we can also use the `import` keyword to use a package. However with `import` keyword  methods will have to be called via the package name."
   ]
  },
  {
   "cell_type": "code",
   "execution_count": 17,
   "metadata": {},
   "outputs": [],
   "source": [
    "import .HelloWorld"
   ]
  },
  {
   "cell_type": "code",
   "execution_count": 18,
   "metadata": {},
   "outputs": [
    {
     "name": "stdout",
     "output_type": "stream",
     "text": [
      "ORA\n",
      "ORA\n",
      "ORA\n",
      "ORA\n"
     ]
    }
   ],
   "source": [
    "HelloWorld.oraora(4)"
   ]
  },
  {
   "cell_type": "markdown",
   "metadata": {},
   "source": [
    "Let's try making some changes to the file, specifically we'll do 2 ORAs for every count:\n",
    "\n",
    "```julia\n",
    "module HelloWorld\n",
    "\n",
    "export oraora\n",
    "\n",
    "    \"\"\"\n",
    "        oraora([count])\n",
    "    Prints 2 'ORA's to the screen count number of times. count defaults to 5\n",
    "\n",
    "    # Examples\n",
    "\n",
    "    ```julia-repl\n",
    "    oraora(2)\n",
    "    ORA\n",
    "    ORA\n",
    "    ORA\n",
    "    ORA\n",
    "    ```\n",
    "    \"\"\"\n",
    "    function oraora(count::Int = 5)\n",
    "        for _ in range(1, stop=count)\n",
    "            println(\"ORA\")\n",
    "            println(\"ORA\")\n",
    "        end\n",
    "    end\n",
    "\n",
    "end # module\n",
    "\n",
    "```"
   ]
  },
  {
   "cell_type": "code",
   "execution_count": 24,
   "metadata": {},
   "outputs": [
    {
     "name": "stderr",
     "output_type": "stream",
     "text": [
      "WARNING: replacing module HelloWorld.\n",
      "WARNING: using HelloWorld.oraora in module Main conflicts with an existing identifier.\n"
     ]
    }
   ],
   "source": [
    "include(\"./src/HelloWorld.jl\")\n",
    "using .HelloWorld"
   ]
  },
  {
   "cell_type": "code",
   "execution_count": 25,
   "metadata": {},
   "outputs": [
    {
     "name": "stdout",
     "output_type": "stream",
     "text": [
      "ORA\n"
     ]
    }
   ],
   "source": [
    "oraora(1)"
   ]
  },
  {
   "cell_type": "markdown",
   "metadata": {},
   "source": [
    "Looks like we'll need to add a new package for development changes."
   ]
  },
  {
   "cell_type": "code",
   "execution_count": 26,
   "metadata": {},
   "outputs": [
    {
     "name": "stderr",
     "output_type": "stream",
     "text": [
      "\u001b[32m\u001b[1m   Updating\u001b[22m\u001b[39m registry at `~/.julia/registries/General`\n"
     ]
    },
    {
     "name": "stdout",
     "output_type": "stream",
     "text": [
      "\u001b[?25l\u001b[2K"
     ]
    },
    {
     "name": "stderr",
     "output_type": "stream",
     "text": [
      "\u001b[32m\u001b[1m   Updating\u001b[22m\u001b[39m git-repo `https://github.com/JuliaRegistries/General.git`\n"
     ]
    },
    {
     "name": "stdout",
     "output_type": "stream",
     "text": [
      "\u001b[?25h"
     ]
    },
    {
     "name": "stderr",
     "output_type": "stream",
     "text": [
      "\u001b[32m\u001b[1m  Resolving\u001b[22m\u001b[39m package versions...\n",
      "\u001b[32m\u001b[1m   Updating\u001b[22m\u001b[39m `~/projects/julia_tutorials/tutorial_1_hello_world/HelloWorld/Project.toml`\n",
      " \u001b[90m [295af30f]\u001b[39m\u001b[92m + Revise v2.6.6\u001b[39m\n",
      "\u001b[32m\u001b[1m   Updating\u001b[22m\u001b[39m `~/projects/julia_tutorials/tutorial_1_hello_world/HelloWorld/Manifest.toml`\n",
      " \u001b[90m [da1fd8a2]\u001b[39m\u001b[92m + CodeTracking v0.5.11\u001b[39m\n",
      " \u001b[90m [aa1ae85d]\u001b[39m\u001b[92m + JuliaInterpreter v0.7.15\u001b[39m\n",
      " \u001b[90m [6f1432cf]\u001b[39m\u001b[92m + LoweredCodeUtils v0.4.4\u001b[39m\n",
      " \u001b[90m [bac558e1]\u001b[39m\u001b[92m + OrderedCollections v1.2.0\u001b[39m\n",
      " \u001b[90m [295af30f]\u001b[39m\u001b[92m + Revise v2.6.6\u001b[39m\n",
      " \u001b[90m [2a0f44e3]\u001b[39m\u001b[92m + Base64 \u001b[39m\n",
      " \u001b[90m [ade2ca70]\u001b[39m\u001b[92m + Dates \u001b[39m\n",
      " \u001b[90m [8ba89e20]\u001b[39m\u001b[92m + Distributed \u001b[39m\n",
      " \u001b[90m [7b1f6079]\u001b[39m\u001b[92m + FileWatching \u001b[39m\n",
      " \u001b[90m [b77e0a4c]\u001b[39m\u001b[92m + InteractiveUtils \u001b[39m\n",
      " \u001b[90m [76f85450]\u001b[39m\u001b[92m + LibGit2 \u001b[39m\n",
      " \u001b[90m [8f399da3]\u001b[39m\u001b[92m + Libdl \u001b[39m\n",
      " \u001b[90m [56ddb016]\u001b[39m\u001b[92m + Logging \u001b[39m\n",
      " \u001b[90m [d6f4376e]\u001b[39m\u001b[92m + Markdown \u001b[39m\n",
      " \u001b[90m [44cfe95a]\u001b[39m\u001b[92m + Pkg \u001b[39m\n",
      " \u001b[90m [de0858da]\u001b[39m\u001b[92m + Printf \u001b[39m\n",
      " \u001b[90m [3fa0cd96]\u001b[39m\u001b[92m + REPL \u001b[39m\n",
      " \u001b[90m [9a3f8284]\u001b[39m\u001b[92m + Random \u001b[39m\n",
      " \u001b[90m [ea8e919c]\u001b[39m\u001b[92m + SHA \u001b[39m\n",
      " \u001b[90m [9e88b42a]\u001b[39m\u001b[92m + Serialization \u001b[39m\n",
      " \u001b[90m [6462fe0b]\u001b[39m\u001b[92m + Sockets \u001b[39m\n",
      " \u001b[90m [cf7118a7]\u001b[39m\u001b[92m + UUIDs \u001b[39m\n",
      " \u001b[90m [4ec0a83e]\u001b[39m\u001b[92m + Unicode \u001b[39m\n"
     ]
    }
   ],
   "source": [
    "]add Revise"
   ]
  },
  {
   "cell_type": "code",
   "execution_count": 44,
   "metadata": {},
   "outputs": [
    {
     "name": "stdout",
     "output_type": "stream",
     "text": [
      "\u001b[36m\u001b[1mProject \u001b[22m\u001b[39mHelloWorld v0.1.0\n",
      "\u001b[32m\u001b[1mStatus\u001b[22m\u001b[39m `~/projects/julia_tutorials/tutorial_1_hello_world/HelloWorld/Project.toml`\n",
      " \u001b[90m [295af30f]\u001b[39m\u001b[37m Revise v2.6.6\u001b[39m\n"
     ]
    }
   ],
   "source": [
    "]status"
   ]
  },
  {
   "cell_type": "code",
   "execution_count": 55,
   "metadata": {},
   "outputs": [
    {
     "name": "stderr",
     "output_type": "stream",
     "text": [
      "WARNING: replacing module HelloWorld.\n",
      "WARNING: using HelloWorld.oraora in module Main conflicts with an existing identifier.\n"
     ]
    }
   ],
   "source": [
    "using Revise\n",
    "include(\"./src/HelloWorld.jl\")\n",
    "using .HelloWorld"
   ]
  },
  {
   "cell_type": "markdown",
   "metadata": {},
   "source": [
    "Now that we added the Revise package lets see if the changes are reflected in the REPL."
   ]
  },
  {
   "cell_type": "code",
   "execution_count": 56,
   "metadata": {},
   "outputs": [
    {
     "name": "stdout",
     "output_type": "stream",
     "text": [
      "ORA\n",
      "ORA\n"
     ]
    }
   ],
   "source": [
    "oraora(2)"
   ]
  },
  {
   "cell_type": "code",
   "execution_count": 37,
   "metadata": {},
   "outputs": [],
   "source": [
    "import .HelloWorld"
   ]
  },
  {
   "cell_type": "code",
   "execution_count": 38,
   "metadata": {},
   "outputs": [
    {
     "name": "stdout",
     "output_type": "stream",
     "text": [
      "ORA\n",
      "ORA\n",
      "ORA\n",
      "ORA\n"
     ]
    }
   ],
   "source": [
    "HelloWorld.oraora(2)"
   ]
  },
  {
   "cell_type": "markdown",
   "metadata": {},
   "source": [
    "Looks like mixed results. But Ideally you won't actually be developing inside the REPL itself."
   ]
  }
 ],
 "metadata": {
  "kernelspec": {
   "display_name": "Julia 1.4.1",
   "language": "julia",
   "name": "julia-1.4"
  },
  "language_info": {
   "file_extension": ".jl",
   "mimetype": "application/julia",
   "name": "julia",
   "version": "1.4.1"
  }
 },
 "nbformat": 4,
 "nbformat_minor": 4
}
